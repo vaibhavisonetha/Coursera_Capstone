{
    "cells": [
        {
            "cell_type": "markdown",
            "metadata": {
                "collapsed": true
            },
            "source": "# Project Title \n# Battle of Neighborhoods: Ideal location for Indian Fast-food Joint"
        },
        {
            "cell_type": "markdown",
            "metadata": {},
            "source": "# Data Description:\nTo determine the correct location for indian fast food joint, we need to fetch the coordinates of Queens borough and its neighborhoods. Then we need the details of venues in 500 meter radius of each neighborhood. We filter out the neighborhoods based on the venues which caters to young  Fourindians and indian tourists. This can be done by querying FourSquare API."
        }
    ],
    "metadata": {
        "kernelspec": {
            "display_name": "Python 3.6",
            "language": "python",
            "name": "python3"
        },
        "language_info": {
            "codemirror_mode": {
                "name": "ipython",
                "version": 3
            },
            "file_extension": ".py",
            "mimetype": "text/x-python",
            "name": "python",
            "nbconvert_exporter": "python",
            "pygments_lexer": "ipython3",
            "version": "3.6.9"
        }
    },
    "nbformat": 4,
    "nbformat_minor": 1
}