{
    "cells": [
        {
            "cell_type": "markdown",
            "metadata": {},
            "source": "# Project Title \n# Battle of Neighborhoods: Ideal location for Indian Fast-food Joint"
        },
        {
            "cell_type": "markdown",
            "metadata": {
                "collapsed": true
            },
            "source": "## Problem Description\nA young restaurateur has chain of fast food joints across india and wishes to start one at New York. As more than 50% indians residing in New York are concentrated at Queens borough, she decides to setup the joint there. She needs to identify the right location at Queens using the data science approach."
        },
        {
            "cell_type": "markdown",
            "metadata": {},
            "source": "## Background\nOpening a successful restaurant is all about location. Location can make or break a restaurant. Although a few universal criteria exist, not every restaurant is suitable for every location. The right location is determined by a combination of restaurant concept and ideal customer. Defining the restaurant type and identifying the target demographics helps in selecting the correct restaurant location which sets the business up for the success. Generally, fast food is liked by age group of 15-35 years. It is an spontaneous outings that are often connected to another activity like shopping or an evening out with friends. Lower-income neighborhoods with high-population density and high foot traffic are key considerations for such joints. Indian cuisine is elaborate and has varied dishes. The indian restaurants present at Queens mainly cater to fine didning. Hence, venturing out a fastfood joint will surely tap the market early. "
        },
        {
            "cell_type": "code",
            "execution_count": null,
            "metadata": {},
            "outputs": [],
            "source": ""
        }
    ],
    "metadata": {
        "kernelspec": {
            "display_name": "Python 3.6",
            "language": "python",
            "name": "python3"
        },
        "language_info": {
            "codemirror_mode": {
                "name": "ipython",
                "version": 3
            },
            "file_extension": ".py",
            "mimetype": "text/x-python",
            "name": "python",
            "nbconvert_exporter": "python",
            "pygments_lexer": "ipython3",
            "version": "3.6.9"
        }
    },
    "nbformat": 4,
    "nbformat_minor": 1
}